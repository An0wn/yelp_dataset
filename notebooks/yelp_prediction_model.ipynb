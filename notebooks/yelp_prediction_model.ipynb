{
  "nbformat": 4,
  "nbformat_minor": 0,
  "metadata": {
    "kernelspec": {
      "display_name": "U4-S1-NLP",
      "language": "python",
      "name": "u4-s1-nlp"
    },
    "language_info": {
      "codemirror_mode": {
        "name": "ipython",
        "version": 3
      },
      "file_extension": ".py",
      "mimetype": "text/x-python",
      "name": "python",
      "nbconvert_exporter": "python",
      "pygments_lexer": "ipython3",
      "version": "3.7.3"
    },
    "colab": {
      "name": "yelp_prediction_model.ipynb",
      "provenance": []
    }
  },
  "cells": [
    {
      "cell_type": "markdown",
      "metadata": {
        "id": "fcB-EDm_Ygnn",
        "colab_type": "text"
      },
      "source": [
        "# Rating Prediction with Yelp Dataset\n",
        "**Natural Language Processing with Scikit-Learn**\n",
        "\n",
        "## [Convert Yelp Dataset to CSV using Pandas](https://link.medium.com/0k0DEb3Qy1)\n",
        "\n",
        "\n",
        "---\n",
        "\n",
        "\n",
        "[GitHub Repo](https://github.com/gyhou/yelp_dataset)\n",
        "\n",
        "https://www.yelp.com/dataset/"
      ]
    },
    {
      "cell_type": "markdown",
      "metadata": {
        "id": "2SpWPYj0cto7",
        "colab_type": "text"
      },
      "source": [
        "## Import CSV files"
      ]
    },
    {
      "cell_type": "code",
      "metadata": {
        "id": "ToZrktDxLtcE",
        "colab_type": "code",
        "colab": {},
        "outputId": "55338d4a-7734-442d-badb-7c0e51e36e30"
      },
      "source": [
        "import numpy as np\n",
        "import pandas as pd\n",
        "from glob import glob\n",
        "# merge csv files\n",
        "def merge_files(SOURCE):\n",
        "    files_list = sorted(glob(SOURCE + '\\*'))\n",
        "    df_list = []\n",
        "    for num, path in enumerate(files_list):\n",
        "        df = pd.read_csv(path)\n",
        "        df = df.drop(['business_id','city','date','funny','state','useful','cool'], axis=1)\n",
        "        df = df.rename(columns={'stars_y':'review_stars'})\n",
        "        df_list.append(df)\n",
        "    df = pd.concat(df_list, join='outer', ignore_index=True, axis=0, sort=True)\n",
        "    return df\n",
        "\n",
        "SOURCE = 'AZ_top20_categories'\n",
        "yelp = merge_files(SOURCE)\n",
        "yelp = yelp.drop(['stars','stars_x'], axis=1)\n",
        "print(yelp.shape)\n",
        "yelp.head()"
      ],
      "execution_count": 0,
      "outputs": [
        {
          "output_type": "stream",
          "text": [
            "(3010486, 3)\n"
          ],
          "name": "stdout"
        },
        {
          "output_type": "execute_result",
          "data": {
            "text/html": [
              "<div>\n",
              "<style scoped>\n",
              "    .dataframe tbody tr th:only-of-type {\n",
              "        vertical-align: middle;\n",
              "    }\n",
              "\n",
              "    .dataframe tbody tr th {\n",
              "        vertical-align: top;\n",
              "    }\n",
              "\n",
              "    .dataframe thead th {\n",
              "        text-align: right;\n",
              "    }\n",
              "</style>\n",
              "<table border=\"1\" class=\"dataframe\">\n",
              "  <thead>\n",
              "    <tr style=\"text-align: right;\">\n",
              "      <th></th>\n",
              "      <th>categories</th>\n",
              "      <th>review_stars</th>\n",
              "      <th>text</th>\n",
              "    </tr>\n",
              "  </thead>\n",
              "  <tbody>\n",
              "    <tr>\n",
              "      <td>0</td>\n",
              "      <td>Active Life</td>\n",
              "      <td>5</td>\n",
              "      <td>Douglas W. has it right.  You're basically on ...</td>\n",
              "    </tr>\n",
              "    <tr>\n",
              "      <td>1</td>\n",
              "      <td>Active Life</td>\n",
              "      <td>2</td>\n",
              "      <td>Nice place, but they think nothing of running ...</td>\n",
              "    </tr>\n",
              "    <tr>\n",
              "      <td>2</td>\n",
              "      <td>Active Life</td>\n",
              "      <td>5</td>\n",
              "      <td>Absolutely beautiful! I think I could stay her...</td>\n",
              "    </tr>\n",
              "    <tr>\n",
              "      <td>3</td>\n",
              "      <td>Active Life</td>\n",
              "      <td>5</td>\n",
              "      <td>I see 4 star ratings and can't figure out how ...</td>\n",
              "    </tr>\n",
              "    <tr>\n",
              "      <td>4</td>\n",
              "      <td>Active Life</td>\n",
              "      <td>1</td>\n",
              "      <td>In the 8 years I have owned my mountain bike, ...</td>\n",
              "    </tr>\n",
              "  </tbody>\n",
              "</table>\n",
              "</div>"
            ],
            "text/plain": [
              "    categories  review_stars  \\\n",
              "0  Active Life             5   \n",
              "1  Active Life             2   \n",
              "2  Active Life             5   \n",
              "3  Active Life             5   \n",
              "4  Active Life             1   \n",
              "\n",
              "                                                text  \n",
              "0  Douglas W. has it right.  You're basically on ...  \n",
              "1  Nice place, but they think nothing of running ...  \n",
              "2  Absolutely beautiful! I think I could stay her...  \n",
              "3  I see 4 star ratings and can't figure out how ...  \n",
              "4  In the 8 years I have owned my mountain bike, ...  "
            ]
          },
          "metadata": {
            "tags": []
          },
          "execution_count": 2
        }
      ]
    },
    {
      "cell_type": "markdown",
      "metadata": {
        "id": "kag4RL-HLtcN",
        "colab_type": "text"
      },
      "source": [
        "## Part 1: Tokenize Function"
      ]
    },
    {
      "cell_type": "code",
      "metadata": {
        "id": "Z85v2ioxLtcO",
        "colab_type": "code",
        "colab": {}
      },
      "source": [
        "from gensim.utils import simple_preprocess\n",
        "from gensim.parsing.preprocessing import STOPWORDS\n",
        "\n",
        "# remove additional words from token\n",
        "STOPWORDS = set(STOPWORDS).union(set(['said', 'mr', 'mrs']))\n",
        "\n",
        "def tokenize(text):\n",
        "    return [token for token in simple_preprocess(text) if token not in STOPWORDS]"
      ],
      "execution_count": 0,
      "outputs": []
    },
    {
      "cell_type": "code",
      "metadata": {
        "id": "7EWj8Lk8LtcS",
        "colab_type": "code",
        "colab": {},
        "outputId": "a6740590-0940-42ac-cf04-15cd6413e337"
      },
      "source": [
        "yelp['categories'].value_counts().index"
      ],
      "execution_count": 0,
      "outputs": [
        {
          "output_type": "execute_result",
          "data": {
            "text/plain": [
              "Index(['Restaurants', 'Food', 'Nightlife', 'Shopping', 'Beauty & Spas',\n",
              "       'Home Services', 'Event Planning & Services', 'Automotive',\n",
              "       'Health & Medical', 'Local Services', 'Fast Food', 'Active Life',\n",
              "       'Auto Repair', 'Doctors', 'Hair Salons', 'Home & Garden', 'Fashion',\n",
              "       'Professional Services', 'Real Estate', 'Contractors'],\n",
              "      dtype='object')"
            ]
          },
          "metadata": {
            "tags": []
          },
          "execution_count": 4
        }
      ]
    },
    {
      "cell_type": "code",
      "metadata": {
        "id": "-Av0RUILLtcV",
        "colab_type": "code",
        "colab": {},
        "outputId": "ebd00f3b-622f-4a83-997b-7fa2e09ff9dd"
      },
      "source": [
        "Contractors_yelp = yelp[yelp['categories']=='Contractors']\n",
        "print(Contractors_yelp.shape)\n",
        "Contractors_yelp.head()"
      ],
      "execution_count": 0,
      "outputs": [
        {
          "output_type": "stream",
          "text": [
            "(25861, 3)\n"
          ],
          "name": "stdout"
        },
        {
          "output_type": "execute_result",
          "data": {
            "text/html": [
              "<div>\n",
              "<style scoped>\n",
              "    .dataframe tbody tr th:only-of-type {\n",
              "        vertical-align: middle;\n",
              "    }\n",
              "\n",
              "    .dataframe tbody tr th {\n",
              "        vertical-align: top;\n",
              "    }\n",
              "\n",
              "    .dataframe thead th {\n",
              "        text-align: right;\n",
              "    }\n",
              "</style>\n",
              "<table border=\"1\" class=\"dataframe\">\n",
              "  <thead>\n",
              "    <tr style=\"text-align: right;\">\n",
              "      <th></th>\n",
              "      <th>categories</th>\n",
              "      <th>review_stars</th>\n",
              "      <th>text</th>\n",
              "    </tr>\n",
              "  </thead>\n",
              "  <tbody>\n",
              "    <tr>\n",
              "      <td>381196</td>\n",
              "      <td>Contractors</td>\n",
              "      <td>1</td>\n",
              "      <td>Went out of my way to get paint at this store ...</td>\n",
              "    </tr>\n",
              "    <tr>\n",
              "      <td>381197</td>\n",
              "      <td>Contractors</td>\n",
              "      <td>2</td>\n",
              "      <td>Took the contractor's label off of the paint t...</td>\n",
              "    </tr>\n",
              "    <tr>\n",
              "      <td>381198</td>\n",
              "      <td>Contractors</td>\n",
              "      <td>5</td>\n",
              "      <td>We are remodeling &amp; had already picked a diffe...</td>\n",
              "    </tr>\n",
              "    <tr>\n",
              "      <td>381199</td>\n",
              "      <td>Contractors</td>\n",
              "      <td>5</td>\n",
              "      <td>Everyone is so friendly here! Can't say the sa...</td>\n",
              "    </tr>\n",
              "    <tr>\n",
              "      <td>381200</td>\n",
              "      <td>Contractors</td>\n",
              "      <td>1</td>\n",
              "      <td>Terrible cust service. Wanted to buy a machine...</td>\n",
              "    </tr>\n",
              "  </tbody>\n",
              "</table>\n",
              "</div>"
            ],
            "text/plain": [
              "         categories  review_stars  \\\n",
              "381196  Contractors             1   \n",
              "381197  Contractors             2   \n",
              "381198  Contractors             5   \n",
              "381199  Contractors             5   \n",
              "381200  Contractors             1   \n",
              "\n",
              "                                                     text  \n",
              "381196  Went out of my way to get paint at this store ...  \n",
              "381197  Took the contractor's label off of the paint t...  \n",
              "381198  We are remodeling & had already picked a diffe...  \n",
              "381199  Everyone is so friendly here! Can't say the sa...  \n",
              "381200  Terrible cust service. Wanted to buy a machine...  "
            ]
          },
          "metadata": {
            "tags": []
          },
          "execution_count": 92
        }
      ]
    },
    {
      "cell_type": "code",
      "metadata": {
        "id": "Bj_JPaUdLtcZ",
        "colab_type": "code",
        "colab": {},
        "outputId": "92576d84-204d-4453-f498-a26bfb3dc3ce"
      },
      "source": [
        "import seaborn as sns\n",
        "sns.distplot(yelp['review_stars']);"
      ],
      "execution_count": 0,
      "outputs": [
        {
          "output_type": "display_data",
          "data": {
            "image/png": "[encoded data removed]",
            "text/plain": [
              "<Figure size 432x288 with 1 Axes>"
            ]
          },
          "metadata": {
            "tags": [],
            "needs_background": "light"
          }
        }
      ]
    },
    {
      "cell_type": "code",
      "metadata": {
        "id": "iuRL7RxuLtcc",
        "colab_type": "code",
        "colab": {},
        "outputId": "330d43bf-483b-4cfd-a6ac-b456ff02b2db"
      },
      "source": [
        "# yelp['tokens'] = yelp['text'].apply(tokenize)\n",
        "# yelp['tokens'].head()"
      ],
      "execution_count": 0,
      "outputs": [
        {
          "output_type": "execute_result",
          "data": {
            "text/plain": [
              "0    [douglas, right, basically, mini, vacation, vi...\n",
              "1    [nice, place, think, running, db, grass, blowe...\n",
              "2    [absolutely, beautiful, think, stay, forever, ...\n",
              "3    [star, ratings, figure, possible, maybe, someb...\n",
              "4    [years, owned, mountain, bike, different, shop...\n",
              "Name: tokens, dtype: object"
            ]
          },
          "metadata": {
            "tags": []
          },
          "execution_count": 13
        }
      ]
    },
    {
      "cell_type": "markdown",
      "metadata": {
        "id": "UE-86WmZLtct",
        "colab_type": "text"
      },
      "source": [
        "## Part 2: Classification"
      ]
    },
    {
      "cell_type": "code",
      "metadata": {
        "id": "L6SsH3ZdLtcu",
        "colab_type": "code",
        "colab": {}
      },
      "source": [
        "# Import Statements\n",
        "from sklearn.pipeline import Pipeline\n",
        "from sklearn.linear_model import SGDClassifier\n",
        "from sklearn.ensemble import RandomForestClassifier\n",
        "from sklearn.feature_extraction.text import TfidfVectorizer # Term frequency (TF) - Inverse Document Frequency (IDF)"
      ],
      "execution_count": 0,
      "outputs": []
    },
    {
      "cell_type": "code",
      "metadata": {
        "id": "JXaCsBMsLtcx",
        "colab_type": "code",
        "colab": {}
      },
      "source": [
        "# Instances for pipeline\n",
        "sgdc = SGDClassifier()\n",
        "rfc = RandomForestClassifier()\n",
        "vect = TfidfVectorizer(stop_words='english', ngram_range=(1,1))"
      ],
      "execution_count": 0,
      "outputs": []
    },
    {
      "cell_type": "code",
      "metadata": {
        "id": "KYVx32CULtc0",
        "colab_type": "code",
        "colab": {},
        "outputId": "794f3564-f4c1-4243-fa04-8f5b2852297a"
      },
      "source": [
        "# Specify the pipeline\n",
        "pipe = Pipeline([('vect', vect), ('rfc', rfc)])\n",
        "# pipe = Pipeline([('vect', vect), ('clf', sgdc)])\n",
        "pipe.fit(Contractors_yelp['text'], Contractors_yelp['review_stars'])"
      ],
      "execution_count": 0,
      "outputs": [
        {
          "output_type": "execute_result",
          "data": {
            "text/plain": [
              "Pipeline(memory=None,\n",
              "         steps=[('vect',\n",
              "                 TfidfVectorizer(analyzer='word', binary=False,\n",
              "                                 decode_error='strict',\n",
              "                                 dtype=<class 'numpy.float64'>,\n",
              "                                 encoding='utf-8', input='content',\n",
              "                                 lowercase=True, max_df=1.0, max_features=None,\n",
              "                                 min_df=1, ngram_range=(1, 1), norm='l2',\n",
              "                                 preprocessor=None, smooth_idf=True,\n",
              "                                 stop_words='english', strip_accents=None,\n",
              "                                 sublinear_tf=False,\n",
              "                                 token_patte...\n",
              "                 RandomForestClassifier(bootstrap=True, class_weight=None,\n",
              "                                        criterion='gini', max_depth=None,\n",
              "                                        max_features='auto',\n",
              "                                        max_leaf_nodes=None,\n",
              "                                        min_impurity_decrease=0.0,\n",
              "                                        min_impurity_split=None,\n",
              "                                        min_samples_leaf=1, min_samples_split=2,\n",
              "                                        min_weight_fraction_leaf=0.0,\n",
              "                                        n_estimators=10, n_jobs=None,\n",
              "                                        oob_score=False, random_state=None,\n",
              "                                        verbose=0, warm_start=False))],\n",
              "         verbose=False)"
            ]
          },
          "metadata": {
            "tags": []
          },
          "execution_count": 93
        }
      ]
    },
    {
      "cell_type": "code",
      "metadata": {
        "id": "Ru3JeRDFLtc-",
        "colab_type": "code",
        "colab": {},
        "outputId": "b8d70baa-e5a3-45ef-ad33-b8d75ec7dba7"
      },
      "source": [
        "my_review = [\"Service is great and the wait time is short\"]\n",
        "pipe.predict(my_review)[0]"
      ],
      "execution_count": 0,
      "outputs": [
        {
          "output_type": "execute_result",
          "data": {
            "text/plain": [
              "5"
            ]
          },
          "metadata": {
            "tags": []
          },
          "execution_count": 100
        }
      ]
    },
    {
      "cell_type": "code",
      "metadata": {
        "id": "X2hAJxsqLtdC",
        "colab_type": "code",
        "colab": {},
        "outputId": "3cb0961f-fc1b-4dc3-cc18-4b1efbd6c0b8"
      },
      "source": [
        "type(my_review)"
      ],
      "execution_count": 0,
      "outputs": [
        {
          "output_type": "execute_result",
          "data": {
            "text/plain": [
              "list"
            ]
          },
          "metadata": {
            "tags": []
          },
          "execution_count": 99
        }
      ]
    },
    {
      "cell_type": "markdown",
      "metadata": {
        "id": "WZJ7WnnnLtdF",
        "colab_type": "text"
      },
      "source": [
        "## Pickle the model"
      ]
    },
    {
      "cell_type": "code",
      "metadata": {
        "id": "__7qAM67LtdG",
        "colab_type": "code",
        "colab": {}
      },
      "source": [
        "import pickle\n",
        "pickle.dump(pipe, open('Contractors_yelp_review_predict_star.pkl', 'wb'))"
      ],
      "execution_count": 0,
      "outputs": []
    }
  ]
}
